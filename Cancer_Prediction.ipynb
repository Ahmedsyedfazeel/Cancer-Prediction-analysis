{
 "cells": [
  {
   "cell_type": "code",
   "execution_count": 1,
   "metadata": {},
   "outputs": [],
   "source": [
    "# Importing the Dependencies\n",
    "import pandas as pd\n",
    "import numpy as np\n",
    "from sklearn.model_selection import train_test_split\n",
    "from sklearn.linear_model import LogisticRegression\n",
    "from sklearn.metrics import accuracy_score\n",
    "\n",
    "\n",
    "\n"
   ]
  },
  {
   "cell_type": "code",
   "execution_count": 2,
   "metadata": {},
   "outputs": [],
   "source": [
    "# loading the csv data to a Pandas DataFrame\n",
    "cancer_diagnosis = pd.read_csv('Cancer.csv')\n"
   ]
  },
  {
   "cell_type": "code",
   "execution_count": 3,
   "metadata": {},
   "outputs": [
    {
     "data": {
      "text/html": [
       "<div>\n",
       "<style scoped>\n",
       "    .dataframe tbody tr th:only-of-type {\n",
       "        vertical-align: middle;\n",
       "    }\n",
       "\n",
       "    .dataframe tbody tr th {\n",
       "        vertical-align: top;\n",
       "    }\n",
       "\n",
       "    .dataframe thead th {\n",
       "        text-align: right;\n",
       "    }\n",
       "</style>\n",
       "<table border=\"1\" class=\"dataframe\">\n",
       "  <thead>\n",
       "    <tr style=\"text-align: right;\">\n",
       "      <th></th>\n",
       "      <th>Patient</th>\n",
       "      <th>age</th>\n",
       "      <th>eventdeath</th>\n",
       "      <th>timerecurrence</th>\n",
       "      <th>chemo</th>\n",
       "      <th>hormonal</th>\n",
       "      <th>amputation</th>\n",
       "      <th>histtype</th>\n",
       "      <th>diam</th>\n",
       "      <th>posnodes</th>\n",
       "      <th>grade</th>\n",
       "      <th>angioinv</th>\n",
       "      <th>lymphinfil</th>\n",
       "      <th>esr1</th>\n",
       "    </tr>\n",
       "  </thead>\n",
       "  <tbody>\n",
       "    <tr>\n",
       "      <td>0</td>\n",
       "      <td>157</td>\n",
       "      <td>45</td>\n",
       "      <td>0</td>\n",
       "      <td>7.874059</td>\n",
       "      <td>0</td>\n",
       "      <td>0</td>\n",
       "      <td>0</td>\n",
       "      <td>1</td>\n",
       "      <td>30</td>\n",
       "      <td>1</td>\n",
       "      <td>1</td>\n",
       "      <td>1</td>\n",
       "      <td>1</td>\n",
       "      <td>0.352512</td>\n",
       "    </tr>\n",
       "    <tr>\n",
       "      <td>1</td>\n",
       "      <td>340</td>\n",
       "      <td>43</td>\n",
       "      <td>1</td>\n",
       "      <td>3.121150</td>\n",
       "      <td>1</td>\n",
       "      <td>0</td>\n",
       "      <td>0</td>\n",
       "      <td>1</td>\n",
       "      <td>22</td>\n",
       "      <td>1</td>\n",
       "      <td>2</td>\n",
       "      <td>1</td>\n",
       "      <td>1</td>\n",
       "      <td>0.425800</td>\n",
       "    </tr>\n",
       "    <tr>\n",
       "      <td>2</td>\n",
       "      <td>292</td>\n",
       "      <td>48</td>\n",
       "      <td>0</td>\n",
       "      <td>8.366872</td>\n",
       "      <td>0</td>\n",
       "      <td>0</td>\n",
       "      <td>0</td>\n",
       "      <td>7</td>\n",
       "      <td>10</td>\n",
       "      <td>0</td>\n",
       "      <td>1</td>\n",
       "      <td>1</td>\n",
       "      <td>1</td>\n",
       "      <td>0.054635</td>\n",
       "    </tr>\n",
       "    <tr>\n",
       "      <td>3</td>\n",
       "      <td>355</td>\n",
       "      <td>50</td>\n",
       "      <td>0</td>\n",
       "      <td>6.045175</td>\n",
       "      <td>0</td>\n",
       "      <td>0</td>\n",
       "      <td>0</td>\n",
       "      <td>1</td>\n",
       "      <td>14</td>\n",
       "      <td>0</td>\n",
       "      <td>2</td>\n",
       "      <td>1</td>\n",
       "      <td>1</td>\n",
       "      <td>-0.052160</td>\n",
       "    </tr>\n",
       "    <tr>\n",
       "      <td>4</td>\n",
       "      <td>161</td>\n",
       "      <td>46</td>\n",
       "      <td>1</td>\n",
       "      <td>8.128679</td>\n",
       "      <td>1</td>\n",
       "      <td>0</td>\n",
       "      <td>1</td>\n",
       "      <td>2</td>\n",
       "      <td>40</td>\n",
       "      <td>9</td>\n",
       "      <td>1</td>\n",
       "      <td>2</td>\n",
       "      <td>1</td>\n",
       "      <td>-0.147207</td>\n",
       "    </tr>\n",
       "  </tbody>\n",
       "</table>\n",
       "</div>"
      ],
      "text/plain": [
       "   Patient  age  eventdeath  timerecurrence  chemo  hormonal  amputation  \\\n",
       "0      157   45           0        7.874059      0         0           0   \n",
       "1      340   43           1        3.121150      1         0           0   \n",
       "2      292   48           0        8.366872      0         0           0   \n",
       "3      355   50           0        6.045175      0         0           0   \n",
       "4      161   46           1        8.128679      1         0           1   \n",
       "\n",
       "   histtype  diam  posnodes  grade  angioinv  lymphinfil      esr1  \n",
       "0         1    30         1      1         1           1  0.352512  \n",
       "1         1    22         1      2         1           1  0.425800  \n",
       "2         7    10         0      1         1           1  0.054635  \n",
       "3         1    14         0      2         1           1 -0.052160  \n",
       "4         2    40         9      1         2           1 -0.147207  "
      ]
     },
     "execution_count": 3,
     "metadata": {},
     "output_type": "execute_result"
    }
   ],
   "source": [
    "# print first 5 rows of the dataset\n",
    "cancer_diagnosis.head()"
   ]
  },
  {
   "cell_type": "code",
   "execution_count": 4,
   "metadata": {},
   "outputs": [
    {
     "data": {
      "text/plain": [
       "0    158\n",
       "1     59\n",
       "Name: eventdeath, dtype: int64"
      ]
     },
     "execution_count": 4,
     "metadata": {},
     "output_type": "execute_result"
    }
   ],
   "source": [
    "# checking the distribution of Target Variable\n",
    "cancer_diagnosis['eventdeath'].value_counts()"
   ]
  },
  {
   "cell_type": "code",
   "execution_count": 5,
   "metadata": {},
   "outputs": [],
   "source": [
    "#Splitting the Features and Target\n",
    "X = cancer_diagnosis.drop(columns='eventdeath',axis = 1)\n",
    "Y = cancer_diagnosis['eventdeath']"
   ]
  },
  {
   "cell_type": "code",
   "execution_count": 6,
   "metadata": {},
   "outputs": [
    {
     "name": "stdout",
     "output_type": "stream",
     "text": [
      "     Patient  age  timerecurrence  chemo  hormonal  amputation  histtype  \\\n",
      "0        157   45        7.874059      0         0           0         1   \n",
      "1        340   43        3.121150      1         0           0         1   \n",
      "2        292   48        8.366872      0         0           0         7   \n",
      "3        355   50        6.045175      0         0           0         1   \n",
      "4        161   46        8.128679      1         0           1         2   \n",
      "..       ...  ...             ...    ...       ...         ...       ...   \n",
      "212      344   44        6.874743      0         0           0         1   \n",
      "213      199   39       10.907598      0         0           0         1   \n",
      "214      247   50        5.637235      1         1           1         1   \n",
      "215       75   52        2.209446      0         1           1         1   \n",
      "216      241   41        2.004107      1         0           0         1   \n",
      "\n",
      "     diam  posnodes  grade  angioinv  lymphinfil      esr1  \n",
      "0      30         1      1         1           1  0.352512  \n",
      "1      22         1      2         1           1  0.425800  \n",
      "2      10         0      1         1           1  0.054635  \n",
      "3      14         0      2         1           1 -0.052160  \n",
      "4      40         9      1         2           1 -0.147207  \n",
      "..    ...       ...    ...       ...         ...       ...  \n",
      "212    13         0      1         1           1 -1.247951  \n",
      "213    15         0      3         3           1 -0.597746  \n",
      "214    20         1      2         2           1  0.065051  \n",
      "215    28         0      3         1           1 -1.055801  \n",
      "216    25         0      3         1           2 -1.186065  \n",
      "\n",
      "[217 rows x 13 columns]\n"
     ]
    }
   ],
   "source": [
    "print(X)"
   ]
  },
  {
   "cell_type": "code",
   "execution_count": 7,
   "metadata": {},
   "outputs": [
    {
     "name": "stdout",
     "output_type": "stream",
     "text": [
      "0      0\n",
      "1      1\n",
      "2      0\n",
      "3      0\n",
      "4      1\n",
      "      ..\n",
      "212    0\n",
      "213    0\n",
      "214    0\n",
      "215    1\n",
      "216    1\n",
      "Name: eventdeath, Length: 217, dtype: int64\n"
     ]
    }
   ],
   "source": [
    "print(Y)"
   ]
  },
  {
   "cell_type": "code",
   "execution_count": 8,
   "metadata": {},
   "outputs": [],
   "source": [
    "#Splitting the Data into Training data & Test Data\n",
    "X_train, X_test, Y_train, Y_test = train_test_split(X, Y, test_size= 0.2, stratify= Y, random_state = 2)"
   ]
  },
  {
   "cell_type": "code",
   "execution_count": 9,
   "metadata": {},
   "outputs": [
    {
     "name": "stdout",
     "output_type": "stream",
     "text": [
      "(217, 13) (173, 13) (44, 13)\n"
     ]
    }
   ],
   "source": [
    "print(X.shape,X_train.shape,X_test.shape)"
   ]
  },
  {
   "cell_type": "code",
   "execution_count": 10,
   "metadata": {},
   "outputs": [],
   "source": [
    "#Model Training\n",
    "#Logistic Regression\n",
    "model = LogisticRegression()"
   ]
  },
  {
   "cell_type": "code",
   "execution_count": 11,
   "metadata": {},
   "outputs": [
    {
     "name": "stderr",
     "output_type": "stream",
     "text": [
      "J:\\anaconda\\lib\\site-packages\\sklearn\\linear_model\\_logistic.py:818: ConvergenceWarning: lbfgs failed to converge (status=1):\n",
      "STOP: TOTAL NO. of ITERATIONS REACHED LIMIT.\n",
      "\n",
      "Increase the number of iterations (max_iter) or scale the data as shown in:\n",
      "    https://scikit-learn.org/stable/modules/preprocessing.html\n",
      "Please also refer to the documentation for alternative solver options:\n",
      "    https://scikit-learn.org/stable/modules/linear_model.html#logistic-regression\n",
      "  extra_warning_msg=_LOGISTIC_SOLVER_CONVERGENCE_MSG,\n"
     ]
    },
    {
     "data": {
      "text/plain": [
       "LogisticRegression()"
      ]
     },
     "execution_count": 11,
     "metadata": {},
     "output_type": "execute_result"
    }
   ],
   "source": [
    "# training the LogisticRegression model with Training data\n",
    "model.fit(X_train, Y_train)"
   ]
  },
  {
   "cell_type": "code",
   "execution_count": 12,
   "metadata": {},
   "outputs": [
    {
     "name": "stdout",
     "output_type": "stream",
     "text": [
      "Accuracy on training data: 0.8901734104046243\n"
     ]
    }
   ],
   "source": [
    "#Model Evaluation\n",
    "# accuracy on training data\n",
    "X_train_prediction = model.predict(X_train)\n",
    "training_data_accuracy = accuracy_score(X_train_prediction, Y_train)\n",
    "\n",
    "print('Accuracy on training data:', training_data_accuracy)"
   ]
  },
  {
   "cell_type": "code",
   "execution_count": 13,
   "metadata": {},
   "outputs": [
    {
     "name": "stdout",
     "output_type": "stream",
     "text": [
      "Accuracy on testing data: 0.8863636363636364\n"
     ]
    }
   ],
   "source": [
    "# accuracy on test data\n",
    "X_test_prediction = model.predict(X_test)\n",
    "testing_data_accuracy = accuracy_score(X_test_prediction, Y_test)\n",
    "\n",
    "print('Accuracy on testing data:', testing_data_accuracy)"
   ]
  },
  {
   "cell_type": "code",
   "execution_count": 22,
   "metadata": {},
   "outputs": [
    {
     "name": "stdout",
     "output_type": "stream",
     "text": [
      "[1]\n"
     ]
    },
    {
     "name": "stderr",
     "output_type": "stream",
     "text": [
      "J:\\anaconda\\lib\\site-packages\\sklearn\\base.py:451: UserWarning: X does not have valid feature names, but LogisticRegression was fitted with feature names\n",
      "  \"X does not have valid feature names, but\"\n"
     ]
    }
   ],
   "source": [
    "#Building a Predictive System\n",
    "input_data = (228,39,1.223819,0,0,0,1,35,0,3,1,1,-1.400621)\n",
    "# change the input data to a numpy array\n",
    "input_data_convert_nparray = np.asarray(input_data)\n",
    "\n",
    "# reshape the numpy array as we are predicting for only on instance\n",
    "reshape_input_data = input_data_convert_nparray.reshape(1,-1)\n",
    "\n",
    "prediction = model.predict(reshape_input_data)\n",
    "\n",
    "print(prediction)\n",
    "\n"
   ]
  },
  {
   "cell_type": "code",
   "execution_count": 23,
   "metadata": {},
   "outputs": [
    {
     "name": "stdout",
     "output_type": "stream",
     "text": [
      "The Person is on the last stage of cancer\n"
     ]
    }
   ],
   "source": [
    "#Assign outputs to their respective results\n",
    "if (prediction[0]== 0):\n",
    "    print(\"The Person has cancer\")\n",
    "else:\n",
    "    print (\"The Person is on the last stage of cancer\")\n",
    "    "
   ]
  },
  {
   "cell_type": "code",
   "execution_count": null,
   "metadata": {},
   "outputs": [],
   "source": []
  }
 ],
 "metadata": {
  "kernelspec": {
   "display_name": "Python 3",
   "language": "python",
   "name": "python3"
  },
  "language_info": {
   "codemirror_mode": {
    "name": "ipython",
    "version": 3
   },
   "file_extension": ".py",
   "mimetype": "text/x-python",
   "name": "python",
   "nbconvert_exporter": "python",
   "pygments_lexer": "ipython3",
   "version": "3.7.4"
  }
 },
 "nbformat": 4,
 "nbformat_minor": 2
}
